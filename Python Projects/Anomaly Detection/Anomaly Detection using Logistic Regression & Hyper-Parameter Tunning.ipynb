{
  "cells": [
    {
      "cell_type": "markdown",
      "metadata": {},
      "source": [
        "# Anomaly Detection using Logistic Regression"
      ]
    },
    {
      "cell_type": "code",
      "execution_count": null,
      "metadata": {
        "id": "49vV2NKE8r4P"
      },
      "outputs": [],
      "source": [
        "# Importing required libraries\n",
        "import pandas as pd\n",
        "import numpy as np\n",
        "import seaborn as sns\n",
        "import matplotlib.pyplot as plt\n",
        "from sklearn.model_selection import train_test_split, GridSearchCV\n",
        "from sklearn.linear_model import LogisticRegression\n",
        "from sklearn.metrics import classification_report, confusion_matrix, roc_auc_score, precision_recall_curve, average_precision_score,roc_curve\n",
        "from sklearn.preprocessing import LabelEncoder, StandardScaler\n",
        "from imblearn.over_sampling import SMOTE\n",
        "import joblib"
      ]
    },
    {
      "cell_type": "code",
      "execution_count": null,
      "metadata": {
        "id": "dT3hO2Ly9YcP"
      },
      "outputs": [],
      "source": [
        "# Load Labelled Dataset\n",
        "file_path = \"/content/sample_data/Labelled_Data.csv\"\n",
        "df = pd.read_csv(file_path)"
      ]
    },
    {
      "cell_type": "code",
      "execution_count": 3,
      "metadata": {
        "colab": {
          "base_uri": "https://localhost:8080/"
        },
        "id": "U_rhsiGp9aeO",
        "outputId": "a18f79ee-6833-4730-afcb-7e6ab8ed1d8d"
      },
      "outputs": [
        {
          "name": "stdout",
          "output_type": "stream",
          "text": [
            "<class 'pandas.core.frame.DataFrame'>\n",
            "RangeIndex: 3684 entries, 0 to 3683\n",
            "Data columns (total 11 columns):\n",
            " #   Column          Non-Null Count  Dtype  \n",
            "---  ------          --------------  -----  \n",
            " 0   step            3684 non-null   int64  \n",
            " 1   type            3684 non-null   object \n",
            " 2   amount          3684 non-null   float64\n",
            " 3   nameOrig        3684 non-null   object \n",
            " 4   oldbalanceOrg   3684 non-null   float64\n",
            " 5   newbalanceOrig  3684 non-null   float64\n",
            " 6   nameDest        3684 non-null   object \n",
            " 7   oldbalanceDest  3684 non-null   float64\n",
            " 8   newbalanceDest  3684 non-null   float64\n",
            " 9   isFraud         3684 non-null   int64  \n",
            " 10  isFlaggedFraud  3684 non-null   int64  \n",
            "dtypes: float64(5), int64(3), object(3)\n",
            "memory usage: 316.7+ KB\n",
            "None\n",
            "isFraud\n",
            "0    3665\n",
            "1      19\n",
            "Name: count, dtype: int64\n"
          ]
        }
      ],
      "source": [
        "# Data exploration\n",
        "print(df.info())\n",
        "print(df[\"isFraud\"].value_counts())"
      ]
    },
    {
      "cell_type": "markdown",
      "metadata": {},
      "source": [
        "# There are only 19 fraud transactions, which is just 0.5% of the total data."
      ]
    },
    {
      "cell_type": "code",
      "execution_count": null,
      "metadata": {
        "id": "4VI-F50C9dud"
      },
      "outputs": [],
      "source": [
        "# Encode categorical features\n",
        "le = LabelEncoder()\n",
        "df['type'] = df['type'].astype(str)\n",
        "le.fit(df['type'])  # Fitting only known categories\n",
        "joblib.dump(le, \"label_encoder.pkl\")\n",
        "df['type'] = le.transform(df['type'])"
      ]
    },
    {
      "cell_type": "code",
      "execution_count": 5,
      "metadata": {
        "id": "n-kjqDhg9eXV"
      },
      "outputs": [],
      "source": [
        "# Feature Engineering\n",
        "df['balance_diffOrig'] = df['oldbalanceOrg'] - df['newbalanceOrig']\n",
        "df['balance_diffDest'] = df['oldbalanceDest'] - df['newbalanceDest']"
      ]
    },
    {
      "cell_type": "code",
      "execution_count": null,
      "metadata": {
        "id": "N1FmDYJG9f-1"
      },
      "outputs": [],
      "source": [
        "# Selecting Relevant Features\n",
        "features = [\"type\", \"amount\", \"oldbalanceOrg\", \"newbalanceOrig\", \"oldbalanceDest\", \"newbalanceDest\", \"balance_diffOrig\", \"balance_diffDest\"]\n",
        "X = df[features]\n",
        "y = df[\"isFraud\"]"
      ]
    },
    {
      "cell_type": "code",
      "execution_count": null,
      "metadata": {
        "id": "d02xvU109iJ9"
      },
      "outputs": [],
      "source": [
        "# Handling Class Imbalance\n",
        "smote = SMOTE(sampling_strategy=0.5, random_state=42)\n",
        "X_resampled, y_resampled = smote.fit_resample(X, y)"
      ]
    },
    {
      "cell_type": "markdown",
      "metadata": {},
      "source": [
        "# Handling class imbalance is essential as fraud transactions are only 0.5% of the total data."
      ]
    },
    {
      "cell_type": "code",
      "execution_count": null,
      "metadata": {
        "colab": {
          "base_uri": "https://localhost:8080/"
        },
        "id": "b2AhzNws9j4l",
        "outputId": "2f776362-476e-4357-d11b-ed60abe01bd3"
      },
      "outputs": [
        {
          "data": {
            "text/plain": [
              "['scaler.pkl']"
            ]
          },
          "execution_count": 8,
          "metadata": {},
          "output_type": "execute_result"
        }
      ],
      "source": [
        "# Standardizing Data\n",
        "scaler = StandardScaler()\n",
        "X_resampled = scaler.fit_transform(X_resampled)\n",
        "joblib.dump(scaler, \"scaler.pkl\")  # Save the scaler"
      ]
    },
    {
      "cell_type": "code",
      "execution_count": 9,
      "metadata": {
        "id": "0Yu2kdf09lVd"
      },
      "outputs": [],
      "source": [
        "# Train-test split\n",
        "X_train, X_test, y_train, y_test = train_test_split(X_resampled, y_resampled, test_size=0.2, random_state=42, stratify=y_resampled)"
      ]
    },
    {
      "cell_type": "code",
      "execution_count": null,
      "metadata": {
        "colab": {
          "base_uri": "https://localhost:8080/"
        },
        "id": "VJqqOPcR9m6u",
        "outputId": "33477aeb-c4b1-4099-b691-88cce0dfc4d7"
      },
      "outputs": [
        {
          "name": "stdout",
          "output_type": "stream",
          "text": [
            "Best Parameters: {'C': 100, 'class_weight': {0: 1, 1: 5}, 'penalty': 'l1', 'solver': 'liblinear'}\n"
          ]
        }
      ],
      "source": [
        "# Hyper-Parameter Tunning using GridSearchCV\n",
        "param_grid = {\n",
        "    'C': [0.01, 0.1, 1, 10, 100],  # Regularization strength\n",
        "    'penalty': ['l1', 'l2'],  # Regularization type\n",
        "    'solver': ['liblinear'],  # Solver for optimization\n",
        "    'class_weight': [None, {0: 1, 1: 5}, {0: 1, 1: 10}]  # Class weights\n",
        "}\n",
        "\n",
        "grid_search = GridSearchCV(\n",
        "    estimator=LogisticRegression(random_state=42, max_iter=1000),\n",
        "    param_grid=param_grid,\n",
        "    scoring='roc_auc',\n",
        "    cv=3,\n",
        "    n_jobs=-1\n",
        ")\n",
        "grid_search.fit(X_train, y_train)\n",
        "\n",
        "# Getting best parameters and model\n",
        "print(\"Best Parameters:\", grid_search.best_params_)\n",
        "log_reg = grid_search.best_estimator_"
      ]
    },
    {
      "cell_type": "code",
      "execution_count": null,
      "metadata": {
        "colab": {
          "base_uri": "https://localhost:8080/"
        },
        "id": "GOSWTSwI9q_F",
        "outputId": "04330282-84dc-4a7f-95e1-78a5495754e6"
      },
      "outputs": [
        {
          "data": {
            "text/plain": [
              "['fraud_detection_log_reg_model.pkl']"
            ]
          },
          "execution_count": 11,
          "metadata": {},
          "output_type": "execute_result"
        }
      ],
      "source": [
        "# Save the best model\n",
        "joblib.dump(log_reg, \"fraud_detection_log_reg_model.pkl\")"
      ]
    },
    {
      "cell_type": "code",
      "execution_count": 12,
      "metadata": {
        "id": "maoyPQC49sp1"
      },
      "outputs": [],
      "source": [
        "# Predictions on test set\n",
        "y_proba = log_reg.predict_proba(X_test)[:, 1]"
      ]
    },
    {
      "cell_type": "code",
      "execution_count": 15,
      "metadata": {
        "colab": {
          "base_uri": "https://localhost:8080/"
        },
        "id": "hTlgcE8C9uNt",
        "outputId": "23c2b05b-32f6-4918-c457-ae0df5f19a60"
      },
      "outputs": [
        {
          "name": "stdout",
          "output_type": "stream",
          "text": [
            "Optimal Threshold: 0.6673669863244548\n"
          ]
        }
      ],
      "source": [
        "# Find optimal threshold using ROC curve\n",
        "fpr, tpr, thresholds = roc_curve(y_test, y_proba)\n",
        "optimal_idx = np.argmax(tpr - fpr)\n",
        "optimal_threshold = thresholds[optimal_idx]\n",
        "print(\"Optimal Threshold:\", optimal_threshold)\n",
        "\n",
        "y_pred = (y_proba > optimal_threshold).astype(int)"
      ]
    },
    {
      "cell_type": "code",
      "execution_count": 16,
      "metadata": {
        "colab": {
          "base_uri": "https://localhost:8080/"
        },
        "id": "-T4BDYeh9wu0",
        "outputId": "71ddc558-9852-4936-e182-3510dfd27748"
      },
      "outputs": [
        {
          "name": "stdout",
          "output_type": "stream",
          "text": [
            "Classification Report:\n",
            "               precision    recall  f1-score   support\n",
            "\n",
            "           0       0.98      0.94      0.96       733\n",
            "           1       0.89      0.96      0.93       367\n",
            "\n",
            "    accuracy                           0.95      1100\n",
            "   macro avg       0.94      0.95      0.94      1100\n",
            "weighted avg       0.95      0.95      0.95      1100\n",
            "\n",
            "Confusion Matrix:\n",
            " [[690  43]\n",
            " [ 13 354]]\n",
            "AUC-ROC Score: 0.9874168714290493\n"
          ]
        }
      ],
      "source": [
        "# Evaluation\n",
        "print(\"Classification Report:\\n\", classification_report(y_test, y_pred))\n",
        "print(\"Confusion Matrix:\\n\", confusion_matrix(y_test, y_pred))\n",
        "print(\"AUC-ROC Score:\", roc_auc_score(y_test, y_proba))"
      ]
    },
    {
      "cell_type": "markdown",
      "metadata": {},
      "source": [
        "# A 0.98 ROC-AUC score means the model is performing extremely well, and will distinguish correctly between the classes with a 98% chance."
      ]
    },
    {
      "cell_type": "code",
      "execution_count": 17,
      "metadata": {
        "colab": {
          "base_uri": "https://localhost:8080/"
        },
        "id": "K8zSiAiY9yQt",
        "outputId": "20df303b-a792-4ea5-d3c0-64587a1015cb"
      },
      "outputs": [
        {
          "name": "stdout",
          "output_type": "stream",
          "text": [
            "Average Precision Score: 0.9710762514260867\n"
          ]
        }
      ],
      "source": [
        "# Precision-Recall Curve and Average Precision Score\n",
        "precision, recall, _ = precision_recall_curve(y_test, y_proba)\n",
        "ap_score = average_precision_score(y_test, y_proba)\n",
        "print(\"Average Precision Score:\", ap_score)"
      ]
    },
    {
      "cell_type": "code",
      "execution_count": 18,
      "metadata": {
        "colab": {
          "base_uri": "https://localhost:8080/",
          "height": 472
        },
        "id": "23-sxOzZ90D1",
        "outputId": "f085dbe9-3830-44ad-a59f-301520178566"
      },
      "outputs": [
        {
          "data": {
            "image/png": "[encoded data removed]",
            "text/plain": [
              "<Figure size 640x480 with 1 Axes>"
            ]
          },
          "metadata": {},
          "output_type": "display_data"
        }
      ],
      "source": [
        "plt.plot(recall, precision, marker='.')\n",
        "plt.xlabel('Recall')\n",
        "plt.ylabel('Precision')\n",
        "plt.title('Precision-Recall Curve')\n",
        "plt.show()"
      ]
    },
    {
      "cell_type": "markdown",
      "metadata": {},
      "source": [
        "# The model achieves high precision (0.9) only when recall is near zero, but precision drops sharply to 0.4 as recall reaches 1.0. This means that the model flags fraud accurately only when extremely cautious, but becomes unreliable when trying to catch most cases."
      ]
    },
    {
      "cell_type": "code",
      "execution_count": null,
      "metadata": {
        "id": "V3IurlQ-91i8"
      },
      "outputs": [],
      "source": [
        "# Load Unlabelled Dataset\n",
        "file_path1 = \"/content/sample_data/Unlabelled_Data.csv\"\n",
        "df_unlabeled = pd.read_csv(file_path1)"
      ]
    },
    {
      "cell_type": "code",
      "execution_count": null,
      "metadata": {
        "id": "K_Oh2zZx-BsD"
      },
      "outputs": [],
      "source": [
        "# Load saved models\n",
        "log_reg = joblib.load(\"fraud_detection_log_reg_model.pkl\") # Load the Trained Model\n",
        "le = joblib.load(\"label_encoder.pkl\") # Load the Label Encoder\n",
        "scaler = joblib.load(\"scaler.pkl\")  # Load the scaler"
      ]
    },
    {
      "cell_type": "code",
      "execution_count": null,
      "metadata": {
        "id": "CJBsCDOv-Dh0"
      },
      "outputs": [],
      "source": [
        "# Encoding Categorical Features\n",
        "df_unlabeled['type'] = df_unlabeled['type'].astype(str)\n",
        "known_categories = set(le.classes_)  # Get known categories\n",
        "df_unlabeled['type'] = df_unlabeled['type'].apply(lambda x: x if x in known_categories else le.classes_[0])  # Assign first known category\n",
        "df_unlabeled['type'] = le.transform(df_unlabeled['type'])"
      ]
    },
    {
      "cell_type": "code",
      "execution_count": 22,
      "metadata": {
        "id": "FUgEWt7r-E3n"
      },
      "outputs": [],
      "source": [
        "# Feature Engineering\n",
        "df_unlabeled['balance_diffOrig'] = df_unlabeled['oldbalanceOrg'] - df_unlabeled['newbalanceOrig']\n",
        "df_unlabeled['balance_diffDest'] = df_unlabeled['oldbalanceDest'] - df_unlabeled['newbalanceDest']"
      ]
    },
    {
      "cell_type": "code",
      "execution_count": 23,
      "metadata": {
        "id": "-IqVYgDd-GQ0"
      },
      "outputs": [],
      "source": [
        "# Selecting relevant features\n",
        "X_unlabeled = df_unlabeled[features]"
      ]
    },
    {
      "cell_type": "code",
      "execution_count": 24,
      "metadata": {
        "id": "y4VQgMJ1-Hgt"
      },
      "outputs": [],
      "source": [
        "# Standardizing the data\n",
        "X_unlabeled = scaler.transform(X_unlabeled)"
      ]
    },
    {
      "cell_type": "code",
      "execution_count": null,
      "metadata": {
        "id": "iVjYWYBC-JQr"
      },
      "outputs": [],
      "source": [
        "# Predicting Fraud Cases\n",
        "y_proba_unlabeled = log_reg.predict_proba(X_unlabeled)[:, 1]\n",
        "y_pred_unlabeled = (y_proba_unlabeled > optimal_threshold).astype(int)"
      ]
    },
    {
      "cell_type": "code",
      "execution_count": null,
      "metadata": {
        "id": "WhjNo4iv-LU1"
      },
      "outputs": [],
      "source": [
        "# Add Predictions to the Dataset\n",
        "df_unlabeled[\"isFraud_Predicted\"] = y_pred_unlabeled"
      ]
    },
    {
      "cell_type": "code",
      "execution_count": null,
      "metadata": {
        "id": "6BFVy_Ly-NHf"
      },
      "outputs": [],
      "source": [
        "# Save Results\n",
        "df_unlabeled.to_csv(\"predicted_fraud_cases_log_reg.csv\", index=False)"
      ]
    }
  ],
  "metadata": {
    "colab": {
      "provenance": []
    },
    "kernelspec": {
      "display_name": "Python 3",
      "name": "python3"
    },
    "language_info": {
      "name": "python"
    }
  },
  "nbformat": 4,
  "nbformat_minor": 0
}
