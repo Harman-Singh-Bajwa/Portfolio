{
  "cells": [
    {
      "cell_type": "markdown",
      "metadata": {},
      "source": [
        "# Anomaly Detection using Random Forest "
      ]
    },
    {
      "cell_type": "code",
      "execution_count": 1,
      "metadata": {
        "id": "ZbU-JrJXonz1"
      },
      "outputs": [],
      "source": [
        "# Importing required libraries\n",
        "import pandas as pd\n",
        "import numpy as np\n",
        "import seaborn as sns\n",
        "import matplotlib.pyplot as plt\n",
        "from sklearn.model_selection import train_test_split, GridSearchCV, cross_val_score\n",
        "from sklearn.ensemble import RandomForestClassifier\n",
        "from sklearn.metrics import classification_report, confusion_matrix, roc_auc_score, roc_curve, precision_recall_curve, average_precision_score\n",
        "from sklearn.preprocessing import LabelEncoder, StandardScaler\n",
        "from imblearn.over_sampling import SMOTE\n",
        "import joblib"
      ]
    },
    {
      "cell_type": "code",
      "execution_count": null,
      "metadata": {
        "id": "SC6hv5q4o15F"
      },
      "outputs": [],
      "source": [
        "# Loading Labelled Dataset\n",
        "file_path = \"/content/sample_data/Labelled_Data.csv\"\n",
        "df = pd.read_csv(file_path)"
      ]
    },
    {
      "cell_type": "code",
      "execution_count": 13,
      "metadata": {
        "colab": {
          "base_uri": "https://localhost:8080/"
        },
        "id": "CUceHMcCo4T9",
        "outputId": "d9bf8b80-7a0a-4a5a-d8e3-0b0d87629365"
      },
      "outputs": [
        {
          "name": "stdout",
          "output_type": "stream",
          "text": [
            "<class 'pandas.core.frame.DataFrame'>\n",
            "RangeIndex: 3684 entries, 0 to 3683\n",
            "Data columns (total 11 columns):\n",
            " #   Column          Non-Null Count  Dtype  \n",
            "---  ------          --------------  -----  \n",
            " 0   step            3684 non-null   int64  \n",
            " 1   type            3684 non-null   object \n",
            " 2   amount          3684 non-null   float64\n",
            " 3   nameOrig        3684 non-null   object \n",
            " 4   oldbalanceOrg   3684 non-null   float64\n",
            " 5   newbalanceOrig  3684 non-null   float64\n",
            " 6   nameDest        3684 non-null   object \n",
            " 7   oldbalanceDest  3684 non-null   float64\n",
            " 8   newbalanceDest  3684 non-null   float64\n",
            " 9   isFraud         3684 non-null   int64  \n",
            " 10  isFlaggedFraud  3684 non-null   int64  \n",
            "dtypes: float64(5), int64(3), object(3)\n",
            "memory usage: 316.7+ KB\n",
            "None\n",
            "isFraud\n",
            "0    3665\n",
            "1      19\n",
            "Name: count, dtype: int64\n"
          ]
        }
      ],
      "source": [
        "# Data exploration\n",
        "print(df.info())\n",
        "print(df[\"isFraud\"].value_counts())"
      ]
    },
    {
      "cell_type": "markdown",
      "metadata": {},
      "source": [
        "# There are only 19 fraud transactions, which is just 0.5% of the total data."
      ]
    },
    {
      "cell_type": "code",
      "execution_count": null,
      "metadata": {
        "id": "VhQ79H80o6Cc"
      },
      "outputs": [],
      "source": [
        "# Encoding Categorical Features\n",
        "le = LabelEncoder()\n",
        "df['type'] = df['type'].astype(str)\n",
        "le.fit(df['type'])  # Fitting only known categories\n",
        "joblib.dump(le, \"label_encoder.pkl\")\n",
        "df['type'] = le.transform(df['type'])"
      ]
    },
    {
      "cell_type": "code",
      "execution_count": 15,
      "metadata": {
        "id": "5QWvJ0Ufo8KZ"
      },
      "outputs": [],
      "source": [
        "# Feature Engineering\n",
        "df['balance_diffOrig'] = df['oldbalanceOrg'] - df['newbalanceOrig']\n",
        "df['balance_diffDest'] = df['oldbalanceDest'] - df['newbalanceDest']"
      ]
    },
    {
      "cell_type": "code",
      "execution_count": null,
      "metadata": {
        "id": "DYTjbOIgo-dj"
      },
      "outputs": [],
      "source": [
        "# Selecting Relevant Features\n",
        "features = [\"type\", \"amount\", \"oldbalanceOrg\", \"newbalanceOrig\", \"oldbalanceDest\", \"newbalanceDest\", \"balance_diffOrig\", \"balance_diffDest\"]\n",
        "X = df[features]\n",
        "y = df[\"isFraud\"]"
      ]
    },
    {
      "cell_type": "code",
      "execution_count": null,
      "metadata": {
        "id": "c9zVp4IcpARz"
      },
      "outputs": [],
      "source": [
        "# Handling Class Imbalance\n",
        "smote = SMOTE(sampling_strategy=0.5, random_state=42)  # Increased sampling strategy\n",
        "X_resampled, y_resampled = smote.fit_resample(X, y)"
      ]
    },
    {
      "cell_type": "markdown",
      "metadata": {},
      "source": [
        "# Handling class imbalance is essential as fraud transactions are only 0.5% of the total data."
      ]
    },
    {
      "cell_type": "code",
      "execution_count": null,
      "metadata": {
        "colab": {
          "base_uri": "https://localhost:8080/"
        },
        "id": "BUoGhtb1pB0d",
        "outputId": "7fafc781-ba7c-40d5-aded-8b5316bb921e"
      },
      "outputs": [
        {
          "data": {
            "text/plain": [
              "['scaler.pkl']"
            ]
          },
          "execution_count": 18,
          "metadata": {},
          "output_type": "execute_result"
        }
      ],
      "source": [
        "# Standardizing Data\n",
        "scaler = StandardScaler()\n",
        "X_resampled = scaler.fit_transform(X_resampled)\n",
        "joblib.dump(scaler, \"scaler.pkl\")  # Save the scaler"
      ]
    },
    {
      "cell_type": "code",
      "execution_count": null,
      "metadata": {
        "id": "4n8R7t58pFku"
      },
      "outputs": [],
      "source": [
        "# Train-test Split\n",
        "X_train, X_test, y_train, y_test = train_test_split(X_resampled, y_resampled, test_size=0.2, random_state=42, stratify=y_resampled)"
      ]
    },
    {
      "cell_type": "code",
      "execution_count": null,
      "metadata": {
        "colab": {
          "base_uri": "https://localhost:8080/"
        },
        "id": "VcuOjEBcpG5D",
        "outputId": "acdca9e2-d187-4c16-afba-57f122858cdd"
      },
      "outputs": [
        {
          "name": "stdout",
          "output_type": "stream",
          "text": [
            "Best Parameters: {'class_weight': {0: 1, 1: 10}, 'max_depth': 20, 'min_samples_leaf': 1, 'min_samples_split': 10, 'n_estimators': 200}\n"
          ]
        }
      ],
      "source": [
        "# Hyper-parameter Tuning using GridSearchCV\n",
        "param_grid = {\n",
        "    'n_estimators': [100, 200, 300],\n",
        "    'max_depth': [10, 20, 30, None],\n",
        "    'min_samples_split': [2, 5, 10],\n",
        "    'min_samples_leaf': [1, 2, 4],\n",
        "    'class_weight': [{0: 1, 1: 5}, {0: 1, 1: 10}, {0: 1, 1: 20}]\n",
        "}\n",
        "\n",
        "grid_search = GridSearchCV(estimator=RandomForestClassifier(random_state=42), param_grid=param_grid, scoring='roc_auc', cv=3, n_jobs=-1)\n",
        "grid_search.fit(X_train, y_train)\n",
        "\n",
        "print(\"Best Parameters:\", grid_search.best_params_)\n",
        "rf = grid_search.best_estimator_"
      ]
    },
    {
      "cell_type": "markdown",
      "metadata": {},
      "source": [
        "# Hyper-parameter Tuning is used to determine the optimal parameters for our algorithm."
      ]
    },
    {
      "cell_type": "code",
      "execution_count": 21,
      "metadata": {
        "colab": {
          "base_uri": "https://localhost:8080/"
        },
        "id": "Jjerr5n-pK47",
        "outputId": "1830cff7-5547-4509-eaad-f1a7c18e08b0"
      },
      "outputs": [
        {
          "name": "stdout",
          "output_type": "stream",
          "text": [
            "Cross-Validation ROC-AUC Scores: [0.99990335 0.99970633 0.99987327 0.99994782 0.99979126]\n",
            "Mean ROC-AUC Score: 0.9998444047618829\n"
          ]
        }
      ],
      "source": [
        "# Cross-validation\n",
        "cv_scores = cross_val_score(rf, X_resampled, y_resampled, cv=5, scoring='roc_auc')\n",
        "print(\"Cross-Validation ROC-AUC Scores:\", cv_scores)\n",
        "print(\"Mean ROC-AUC Score:\", np.mean(cv_scores))"
      ]
    },
    {
      "cell_type": "markdown",
      "metadata": {},
      "source": [
        "# A 0.99 ROC-AUC score means the model is performing extremely well, and will distinguish correctly between the classes with a 99% chance."
      ]
    },
    {
      "cell_type": "code",
      "execution_count": 22,
      "metadata": {
        "id": "M0vTYSKopTgT"
      },
      "outputs": [],
      "source": [
        "# Predictions\n",
        "y_proba = rf.predict_proba(X_test)[:, 1]"
      ]
    },
    {
      "cell_type": "code",
      "execution_count": null,
      "metadata": {
        "colab": {
          "base_uri": "https://localhost:8080/"
        },
        "id": "oyJ8aEWbpVlj",
        "outputId": "fd2ff5f1-9abb-4f95-bfd5-f99e5b13c66a"
      },
      "outputs": [
        {
          "name": "stdout",
          "output_type": "stream",
          "text": [
            "Optimal Threshold: 0.5447277891262943\n"
          ]
        }
      ],
      "source": [
        "# Find Optimal Threshold using ROC curve\n",
        "fpr, tpr, thresholds = roc_curve(y_test, y_proba)\n",
        "optimal_idx = np.argmax(tpr - fpr)\n",
        "optimal_threshold = thresholds[optimal_idx]\n",
        "print(\"Optimal Threshold:\", optimal_threshold)\n",
        "\n",
        "y_pred = (y_proba > optimal_threshold).astype(int)"
      ]
    },
    {
      "cell_type": "code",
      "execution_count": 24,
      "metadata": {
        "colab": {
          "base_uri": "https://localhost:8080/"
        },
        "id": "9ItTjYkvpYBM",
        "outputId": "1dd878a1-c4ed-4739-aae2-f849fcfb8dc3"
      },
      "outputs": [
        {
          "name": "stdout",
          "output_type": "stream",
          "text": [
            "Classification Report:\n",
            "               precision    recall  f1-score   support\n",
            "\n",
            "           0       1.00      1.00      1.00       733\n",
            "           1       0.99      1.00      0.99       367\n",
            "\n",
            "    accuracy                           1.00      1100\n",
            "   macro avg       1.00      1.00      1.00      1100\n",
            "weighted avg       1.00      1.00      1.00      1100\n",
            "\n",
            "Confusion Matrix:\n",
            " [[730   3]\n",
            " [  1 366]]\n",
            "AUC-ROC Score: 0.9999107843173698\n"
          ]
        }
      ],
      "source": [
        "# Evaluation\n",
        "print(\"Classification Report:\\n\", classification_report(y_test, y_pred))\n",
        "print(\"Confusion Matrix:\\n\", confusion_matrix(y_test, y_pred))\n",
        "print(\"AUC-ROC Score:\", roc_auc_score(y_test, y_proba))"
      ]
    },
    {
      "cell_type": "code",
      "execution_count": 25,
      "metadata": {
        "colab": {
          "base_uri": "https://localhost:8080/"
        },
        "id": "7MkP0J5SpZ07",
        "outputId": "2e3a67f0-2db2-4d31-f35e-8b9d704231aa"
      },
      "outputs": [
        {
          "name": "stdout",
          "output_type": "stream",
          "text": [
            "Average Precision Score: 0.9998197494137551\n"
          ]
        }
      ],
      "source": [
        "# Precision-Recall Curve and Average Precision Score\n",
        "precision, recall, _ = precision_recall_curve(y_test, y_proba)\n",
        "ap_score = average_precision_score(y_test, y_proba)\n",
        "print(\"Average Precision Score:\", ap_score)"
      ]
    },
    {
      "cell_type": "code",
      "execution_count": 26,
      "metadata": {
        "colab": {
          "base_uri": "https://localhost:8080/",
          "height": 472
        },
        "id": "DCf22tDLpbdb",
        "outputId": "646e2d25-5219-4b00-c5f5-fc9c9912292e"
      },
      "outputs": [
        {
          "data": {
            "image/png": "[encoded data removed]",
            "text/plain": [
              "<Figure size 640x480 with 1 Axes>"
            ]
          },
          "metadata": {},
          "output_type": "display_data"
        }
      ],
      "source": [
        "plt.plot(recall, precision, marker='.')\n",
        "plt.xlabel('Recall')\n",
        "plt.ylabel('Precision')\n",
        "plt.title('Precision-Recall Curve')\n",
        "plt.show()"
      ]
    },
    {
      "cell_type": "markdown",
      "metadata": {},
      "source": [
        "# This graph indicates as there is an increase in Recall, the Precision drops. Although the model is good, there is still room for improvement."
      ]
    },
    {
      "cell_type": "code",
      "execution_count": 27,
      "metadata": {
        "colab": {
          "base_uri": "https://localhost:8080/"
        },
        "id": "agP0l3GJpdFz",
        "outputId": "81ae72ae-539a-41d5-c082-d3efa1c5b153"
      },
      "outputs": [
        {
          "name": "stdout",
          "output_type": "stream",
          "text": [
            "Feature Importance:\n",
            " newbalanceOrig      0.317266\n",
            "balance_diffOrig    0.183510\n",
            "oldbalanceOrg       0.144003\n",
            "oldbalanceDest      0.132313\n",
            "type                0.082742\n",
            "balance_diffDest    0.070124\n",
            "amount              0.053396\n",
            "newbalanceDest      0.016645\n",
            "dtype: float64\n"
          ]
        }
      ],
      "source": [
        "# Feature Importance\n",
        "feature_importance = pd.Series(rf.feature_importances_, index=features).sort_values(ascending=False)\n",
        "print(\"Feature Importance:\\n\", feature_importance)"
      ]
    },
    {
      "cell_type": "code",
      "execution_count": null,
      "metadata": {
        "colab": {
          "base_uri": "https://localhost:8080/"
        },
        "id": "Meu9i8rfpfND",
        "outputId": "b551eebd-15b2-46cd-9429-36e5d0688ffa"
      },
      "outputs": [
        {
          "data": {
            "text/plain": [
              "['label_encoder.pkl']"
            ]
          },
          "execution_count": 28,
          "metadata": {},
          "output_type": "execute_result"
        }
      ],
      "source": [
        "# Save model\n",
        "joblib.dump(rf, \"fraud_detection_rf_model.pkl\")\n",
        "joblib.dump(le, \"label_encoder.pkl\")"
      ]
    },
    {
      "cell_type": "code",
      "execution_count": null,
      "metadata": {
        "id": "C64A0E17pgw6"
      },
      "outputs": [],
      "source": [
        "# Load unlabeled dataset\n",
        "file_path1 = \"/content/sample_data/Unlabelled_Data.csv\"\n",
        "df_unlabeled = pd.read_csv(file_path1)"
      ]
    },
    {
      "cell_type": "code",
      "execution_count": null,
      "metadata": {
        "id": "5q7nIsUipi9S"
      },
      "outputs": [],
      "source": [
        "# Load saved models\n",
        "rf = joblib.load(\"fraud_detection_rf_model.pkl\") # Load the Trained Model\n",
        "le = joblib.load(\"label_encoder.pkl\") # Load the Label Encoder\n",
        "scaler = joblib.load(\"scaler.pkl\")  # Load the scaler"
      ]
    },
    {
      "cell_type": "code",
      "execution_count": null,
      "metadata": {
        "id": "ZKyr5Bl3plhc"
      },
      "outputs": [],
      "source": [
        "# Encoding Categorical Features\n",
        "df_unlabeled['type'] = df_unlabeled['type'].astype(str)\n",
        "known_categories = set(le.classes_)  # Get known categories\n",
        "df_unlabeled['type'] = df_unlabeled['type'].apply(lambda x: x if x in known_categories else le.classes_[0])  # Assign first known category\n",
        "df_unlabeled['type'] = le.transform(df_unlabeled['type'])"
      ]
    },
    {
      "cell_type": "code",
      "execution_count": 32,
      "metadata": {
        "id": "UfvYKJWTpnVS"
      },
      "outputs": [],
      "source": [
        "# Feature Engineering\n",
        "df_unlabeled['balance_diffOrig'] = df_unlabeled['oldbalanceOrg'] - df_unlabeled['newbalanceOrig']\n",
        "df_unlabeled['balance_diffDest'] = df_unlabeled['oldbalanceDest'] - df_unlabeled['newbalanceDest']"
      ]
    },
    {
      "cell_type": "code",
      "execution_count": null,
      "metadata": {
        "id": "4fhfsudwppFS"
      },
      "outputs": [],
      "source": [
        "# Selecting Relevant Features\n",
        "X_unlabeled = df_unlabeled[features]"
      ]
    },
    {
      "cell_type": "code",
      "execution_count": null,
      "metadata": {
        "id": "Ra6A-AuHpquE"
      },
      "outputs": [],
      "source": [
        "# Standardizing Data\n",
        "X_unlabeled = scaler.transform(X_unlabeled)"
      ]
    },
    {
      "cell_type": "code",
      "execution_count": null,
      "metadata": {
        "id": "fLq4fNFypsdS"
      },
      "outputs": [],
      "source": [
        "# Predicting Fraud Cases\n",
        "y_proba_unlabeled = rf.predict_proba(X_unlabeled)[:, 1]\n",
        "y_pred_unlabeled = (y_proba_unlabeled > optimal_threshold).astype(int)"
      ]
    },
    {
      "cell_type": "code",
      "execution_count": null,
      "metadata": {
        "id": "xJyHQUnnpuNC"
      },
      "outputs": [],
      "source": [
        "# Add Predictions to the Dataset\n",
        "df_unlabeled[\"isFraud_Predicted\"] = y_pred_unlabeled"
      ]
    },
    {
      "cell_type": "code",
      "execution_count": null,
      "metadata": {
        "id": "OIyJnYH9pwUa"
      },
      "outputs": [],
      "source": [
        "# Save Results\n",
        "df_unlabeled.to_csv(\"predicted_fraud_cases.csv\", index=False)"
      ]
    }
  ],
  "metadata": {
    "colab": {
      "provenance": []
    },
    "kernelspec": {
      "display_name": "Python 3",
      "name": "python3"
    },
    "language_info": {
      "name": "python"
    }
  },
  "nbformat": 4,
  "nbformat_minor": 0
}
