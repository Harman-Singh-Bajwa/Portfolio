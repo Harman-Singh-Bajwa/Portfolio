{
 "cells": [
  {
   "cell_type": "code",
   "execution_count": 15,
   "id": "893bf084",
   "metadata": {},
   "outputs": [],
   "source": [
    "# Importing Libraries\n",
    "\n",
    "from bs4 import BeautifulSoup\n",
    "import requests\n",
    "import smtplib\n",
    "import time\n",
    "import datetime"
   ]
  },
  {
   "cell_type": "code",
   "execution_count": 16,
   "id": "ac7248bd",
   "metadata": {},
   "outputs": [
    {
     "name": "stdout",
     "output_type": "stream",
     "text": [
      "URBN 10000 mAh Lithium Power Bank UPR10K with 12 Watt Fast Charging, Blue\n",
      "1,299\n",
      "                         \n",
      "                          .\n"
     ]
    }
   ],
   "source": [
    "# Connecting to desired website and pulling required data.\n",
    "\n",
    "URL = 'https://www.amazon.in/URBN-Li-Polymer-Charge-Compact-Certification/dp/B07X963JNS/ref=sr_1_10?crid=25VAV7ANZM170&keywords=power+bank&qid=1677313006&sprefix=p%2Caps%2C205&sr=8-10'\n",
    "\n",
    "headers = {\"User-Agent\": \"Mozilla/5.0 (Windows NT 10.0; Win64; x64) AppleWebKit/537.36 (KHTML, like Gecko) Chrome/110.0.0.0 Safari/537.36\", \"Accept-Encoding\": \"gzip, deflate, br\", \"Accept\": \"text/html,application/xhtml+xml,application/xml;q=0.9\",\"DNT\":\"1\",\"Connection\":\"close\", \"Upgrade-Insecure-Requests\": \"1\" }\n",
    "\n",
    "page = requests.get(URL, headers = headers)\n",
    "\n",
    "soup1 = BeautifulSoup(page.content, \"html.parser\")\n",
    "\n",
    "soup2 = BeautifulSoup(soup1.prettify(), \"html.parser\")\n",
    "\n",
    "title = soup2.find(id= \"productTitle\").get_text().strip()\n",
    "price = soup2.find(\"span\",attrs={'class':\"a-price-whole\"}).text.strip()\n",
    "\n",
    "print(title)\n",
    "print(price)"
   ]
  },
  {
   "cell_type": "code",
   "execution_count": 17,
   "id": "43c34fdc",
   "metadata": {},
   "outputs": [
    {
     "name": "stdout",
     "output_type": "stream",
     "text": [
      "2023-03-20\n"
     ]
    }
   ],
   "source": [
    "# Create a Timestamp for your output to track when data was collected\n",
    "\n",
    "import datetime\n",
    "\n",
    "today = datetime.date.today()\n",
    "\n",
    "print(today)"
   ]
  },
  {
   "cell_type": "code",
   "execution_count": 18,
   "id": "1b362afc",
   "metadata": {},
   "outputs": [],
   "source": [
    "# Creating a CSV file and writing header and data into it.\n",
    "\n",
    "import csv\n",
    "\n",
    "header = ['Title', 'Price', 'Date']\n",
    "data = [title, price, today]\n",
    "\n",
    "with open('Web_Scrapping-Dataset', 'w', newline = '', encoding ='UTF-8') as f:\n",
    "    writer = csv.writer(f)\n",
    "    writer.writerow(header)\n",
    "    writer.writerow(data)\n"
   ]
  },
  {
   "cell_type": "code",
   "execution_count": 22,
   "id": "e3abc2ee",
   "metadata": {},
   "outputs": [
    {
     "name": "stdout",
     "output_type": "stream",
     "text": [
      "                                               Title  \\\n",
      "0  URBN 10000 mAh Lithium Power Bank UPR10K with ...   \n",
      "\n",
      "                                               Price        Date  \n",
      "0  1,299\\n                         \\n            ...  2023-03-19  \n"
     ]
    }
   ],
   "source": [
    "import pandas as pd\n",
    "\n",
    "df = pd.read_csv(r\"C:/Users/Harman/Desktop/Code/Projects/Web_Scrapping-Dataset.csv\")\n",
    "\n",
    "print(df)"
   ]
  },
  {
   "cell_type": "code",
   "execution_count": 23,
   "id": "299f97ac",
   "metadata": {},
   "outputs": [],
   "source": [
    "# Appending data to the CSV\n",
    "\n",
    "with open(\"Web_Scrapping-Dataset.csv\", 'a+', newline = '', encoding = 'UTF8') as f:\n",
    "    writer = csv.writer(f)\n",
    "    writer.writerow(data)\n",
    "    "
   ]
  },
  {
   "cell_type": "code",
   "execution_count": 24,
   "id": "3e077d40",
   "metadata": {},
   "outputs": [],
   "source": [
    "# Merging all of the above code into a single function.\n",
    "\n",
    "def check_price():\n",
    "    URL = 'https://www.amazon.in/URBN-Li-Polymer-Charge-Compact-Certification/dp/B07X963JNS/ref=sr_1_10?crid=25VAV7ANZM170&keywords=power+bank&qid=1677313006&sprefix=p%2Caps%2C205&sr=8-10'\n",
    "\n",
    "    headers = {\"User-Agent\": \"Mozilla/5.0 (Windows NT 10.0; Win64; x64) AppleWebKit/537.36 (KHTML, like Gecko) Chrome/110.0.0.0 Safari/537.36\", \"Accept-Encoding\": \"gzip, deflate, br\", \"Accept\": \"text/html,application/xhtml+xml,application/xml;q=0.9\",\"DNT\":\"1\",\"Connection\":\"close\", \"Upgrade-Insecure-Requests\": \"1\" }\n",
    "\n",
    "    page = requests.get(URL, headers = headers)\n",
    "\n",
    "    soup1 = BeautifulSoup(page.content, \"html.parser\")\n",
    "\n",
    "    soup2 = BeautifulSoup(soup1.prettify(), \"html.parser\")\n",
    "\n",
    "    title = soup2.find(id= \"productTitle\").get_text().strip()\n",
    "    price = soup2.find(\"span\",attrs={'class':\"a-price-whole\"}).text.strip()\n",
    "    \n",
    "    import datetime\n",
    "\n",
    "    today = datetime.date.today()\n",
    "\n",
    "    import csv\n",
    "\n",
    "    header = ['Title', 'Price', 'Date']\n",
    "    data = [title, price, today]\n",
    "    \n",
    "    with open(\"Web_Scrapping-Dataset.csv\", 'a+', newline = '', encoding = 'UTF8') as f:\n",
    "        writer = csv.writer(f)\n",
    "        writer.writerow(data)\n"
   ]
  },
  {
   "cell_type": "code",
   "execution_count": null,
   "id": "cb31a397",
   "metadata": {},
   "outputs": [],
   "source": [
    "# Runs check_price function after a set interval of time and inputs data into the CSV file.\n",
    "\n",
    "while(True):\n",
    "    check_price()\n",
    "    time.sleep(5)"
   ]
  },
  {
   "cell_type": "code",
   "execution_count": 27,
   "id": "7aa3546c",
   "metadata": {},
   "outputs": [
    {
     "name": "stdout",
     "output_type": "stream",
     "text": [
      "  URBN 10000 mAh Lithium Power Bank UPR10K with 12 Watt Fast Charging, Blue  \\\n",
      "0  URBN 10000 mAh Lithium Power Bank UPR10K with ...                          \n",
      "1  URBN 10000 mAh Lithium Power Bank UPR10K with ...                          \n",
      "2  URBN 10000 mAh Lithium Power Bank UPR10K with ...                          \n",
      "\n",
      "  1,299\\n                         \\n                          .  2023-03-20  \n",
      "0  1,299\\n                         \\n            ...             2023-03-20  \n",
      "1  1,299\\n                         \\n            ...             2023-03-20  \n",
      "2  1,299\\n                         \\n            ...             2023-03-20  \n"
     ]
    }
   ],
   "source": [
    "#Displaying stored data after running the above code block.\n",
    "\n",
    "import pandas as pd\n",
    "\n",
    "df = pd.read_csv(r\"C:/Users/Harman/Desktop/Code/Projects/Web_Scrapping-Dataset.csv\")\n",
    "\n",
    "print(df)"
   ]
  }
 ],
 "metadata": {
  "kernelspec": {
   "display_name": "Python 3 (ipykernel)",
   "language": "python",
   "name": "python3"
  },
  "language_info": {
   "codemirror_mode": {
    "name": "ipython",
    "version": 3
   },
   "file_extension": ".py",
   "mimetype": "text/x-python",
   "name": "python",
   "nbconvert_exporter": "python",
   "pygments_lexer": "ipython3",
   "version": "3.9.13"
  }
 },
 "nbformat": 4,
 "nbformat_minor": 5
}
